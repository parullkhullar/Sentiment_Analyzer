{
 "cells": [
  {
   "cell_type": "code",
   "execution_count": 2,
   "metadata": {},
   "outputs": [],
   "source": [
    "import os\n",
    "import sys\n",
    "import numpy as np\n",
    "import pandas as pd\n",
    "from matplotlib import pyplot as plt\n",
    "import seaborn as sns\n",
    "import warnings\n",
    "warnings.filterwarnings('ignore')\n",
    "import cv2"
   ]
  },
  {
   "cell_type": "code",
   "execution_count": 3,
   "metadata": {},
   "outputs": [],
   "source": [
    "from keras.models import load_model\n",
    "model=load_model('facial_avg.h5')"
   ]
  },
  {
   "cell_type": "code",
   "execution_count": 4,
   "metadata": {},
   "outputs": [],
   "source": [
    "emotion_label={0:'Angry',1:'Disgusted',2:'Frightened',3:'Happy',4:'Sad',5:'Surprised',6:'Neutral'}"
   ]
  },
  {
   "cell_type": "code",
   "execution_count": 5,
   "metadata": {},
   "outputs": [],
   "source": [
    "def facecrop(image):\n",
    "    faceCasc='haarcascade_frontalface_default.xml'\n",
    "    cascade=cv2.CascadeClassifier(faceCasc)\n",
    "    grayimg=cv2.cvtColor(image, cv2.COLOR_BGR2GRAY)\n",
    "    face=cascade.detectMultiScale(grayimg,scaleFactor=1.02,minNeighbors=5)\n",
    "    crops=[]\n",
    "    for x,y,w,h in face:\n",
    "        cropped=image[y:y+h, x:x+w]\n",
    "        crops.append(cropped)\n",
    "    return crops"
   ]
  },
  {
   "cell_type": "code",
   "execution_count": 6,
   "metadata": {},
   "outputs": [],
   "source": [
    "from keras.preprocessing import image\n",
    "def resizeImage(ip):\n",
    "    face=cv2.resize(ip,(48,48))\n",
    "    face=cv2.cvtColor(face, cv2.COLOR_BGR2GRAY)\n",
    "    face=face/255\n",
    "    face=face.reshape(48,48,1)\n",
    "    face=np.expand_dims(face, axis=0)\n",
    "    return face"
   ]
  },
  {
   "cell_type": "code",
   "execution_count": 7,
   "metadata": {},
   "outputs": [],
   "source": [
    "def displayGraph(emotions):\n",
    "    happy=(100*emotions.count('Happy'))/len(emotions)\n",
    "    angry=(100*emotions.count('Angry'))/len(emotions)\n",
    "    disgust=(100*emotions.count('Disgusted'))/len(emotions)\n",
    "    fear=(100*emotions.count('Frightened'))/len(emotions)\n",
    "    sad=(100*emotions.count('Sad'))/len(emotions)\n",
    "    surprise=(100*emotions.count('Surprised'))/len(emotions)\n",
    "    neutral=(100*emotions.count('Neutral'))/len(emotions)\n",
    "    fig=plt.figure()\n",
    "    ax=fig.add_axes([0,0,1,1])\n",
    "    y=[happy,angry,disgust,fear,sad,surprise,neutral]\n",
    "    x=['Happy','Angry','Disgust','Fear','Sad','Surprise','Neutral']\n",
    "    ax.bar(x,y)\n",
    "    plt.xlabel('Emotions')\n",
    "    plt.ylabel('Percentage')\n",
    "    plt.show()"
   ]
  },
  {
   "cell_type": "code",
   "execution_count": 7,
   "metadata": {},
   "outputs": [
    {
     "name": "stdout",
     "output_type": "stream",
     "text": [
      "WARNING:tensorflow:From <ipython-input-7-0847c76c79e4>:10: Sequential.predict_classes (from tensorflow.python.keras.engine.sequential) is deprecated and will be removed after 2021-01-01.\n",
      "Instructions for updating:\n",
      "Please use instead:* `np.argmax(model.predict(x), axis=-1)`,   if your model does multi-class classification   (e.g. if it uses a `softmax` last-layer activation).* `(model.predict(x) > 0.5).astype(\"int32\")`,   if your model does binary classification   (e.g. if it uses a `sigmoid` last-layer activation).\n"
     ]
    },
    {
     "data": {
      "image/png": "[encoded data removed]",
      "text/plain": [
       "<Figure size 432x288 with 1 Axes>"
      ]
     },
     "metadata": {
      "needs_background": "light"
     },
     "output_type": "display_data"
    }
   ],
   "source": [
    "total_emotions=[]\n",
    "capture=cv2.VideoCapture(0)\n",
    "while(True):\n",
    "    check,frame=capture.read()\n",
    "    cv2.imshow('Frames',frame)\n",
    "    try:\n",
    "        crop=facecrop(frame)\n",
    "        for i in range(len(crop)):\n",
    "            face=resizeImage(crop[i])\n",
    "            expression=model.predict_classes(face)\n",
    "            total_emotions.append(emotion_label[expression[0]])\n",
    "        key=cv2.waitKey(2000)\n",
    "        if(key==27):\n",
    "            break\n",
    "    except Exception as e:\n",
    "        print(e)\n",
    "displayGraph(total_emotions)\n",
    "capture.release()\n",
    "cv2.destroyAllWindows()"
   ]
  },
  {
   "cell_type": "code",
   "execution_count": null,
   "metadata": {},
   "outputs": [],
   "source": []
  },
  {
   "cell_type": "code",
   "execution_count": null,
   "metadata": {},
   "outputs": [],
   "source": []
  },
  {
   "cell_type": "code",
   "execution_count": null,
   "metadata": {},
   "outputs": [],
   "source": []
  },
  {
   "cell_type": "code",
   "execution_count": null,
   "metadata": {},
   "outputs": [],
   "source": []
  },
  {
   "cell_type": "code",
   "execution_count": 8,
   "metadata": {},
   "outputs": [
    {
     "name": "stdout",
     "output_type": "stream",
     "text": [
      "WARNING:tensorflow:From <ipython-input-8-0847c76c79e4>:10: Sequential.predict_classes (from tensorflow.python.keras.engine.sequential) is deprecated and will be removed after 2021-01-01.\n",
      "Instructions for updating:\n",
      "Please use instead:* `np.argmax(model.predict(x), axis=-1)`,   if your model does multi-class classification   (e.g. if it uses a `softmax` last-layer activation).* `(model.predict(x) > 0.5).astype(\"int32\")`,   if your model does binary classification   (e.g. if it uses a `sigmoid` last-layer activation).\n"
     ]
    },
    {
     "data": {
      "image/png": "[encoded data removed]",
      "text/plain": [
       "<Figure size 432x288 with 1 Axes>"
      ]
     },
     "metadata": {
      "needs_background": "light"
     },
     "output_type": "display_data"
    }
   ],
   "source": [
    "total_emotions=[]\n",
    "capture=cv2.VideoCapture(0)\n",
    "while(True):\n",
    "    check,frame=capture.read()\n",
    "    cv2.imshow('Frames',frame)\n",
    "    try:\n",
    "        crop=facecrop(frame)\n",
    "        for i in range(len(crop)):\n",
    "            face=resizeImage(crop[i])\n",
    "            expression=model.predict_classes(face)\n",
    "            total_emotions.append(emotion_label[expression[0]])\n",
    "        key=cv2.waitKey(2000)\n",
    "        if(key==27):\n",
    "            break\n",
    "    except Exception as e:\n",
    "        print(e)\n",
    "displayGraph(total_emotions)\n",
    "capture.release()\n",
    "cv2.destroyAllWindows()"
   ]
  },
  {
   "cell_type": "code",
   "execution_count": null,
   "metadata": {},
   "outputs": [],
   "source": []
  }
 ],
 "metadata": {
  "kernelspec": {
   "display_name": "Python 3",
   "language": "python",
   "name": "python3"
  },
  "language_info": {
   "codemirror_mode": {
    "name": "ipython",
    "version": 3
   },
   "file_extension": ".py",
   "mimetype": "text/x-python",
   "name": "python",
   "nbconvert_exporter": "python",
   "pygments_lexer": "ipython3",
   "version": "3.7.4"
  }
 },
 "nbformat": 4,
 "nbformat_minor": 2
}
